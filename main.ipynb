{
 "cells": [
  {
   "cell_type": "code",
   "execution_count": 1,
   "metadata": {},
   "outputs": [],
   "source": [
    "import argparse\n",
    "\n",
    "import numpy as np\n",
    "import matplotlib.pyplot as plt\n",
    "import astropy.units as u\n",
    "import scipy as sp\n",
    "from scipy import signal"
   ]
  },
  {
   "cell_type": "code",
   "execution_count": 2,
   "metadata": {},
   "outputs": [],
   "source": [
    "delta_freq = 2.5 * u.MHz\n",
    "sample_interval = (1 / (2 * delta_freq)).to(u.s)\n",
    "\n",
    "\n",
    "nrchan = 32768 #0.0131 seconds\n",
    "\n",
    "filename1 = \"/disks/strw2/RadioAstronomy2023/Interferometer_Dataant1_1420.0mhz__27.10.202315.13.26.grc\"\n",
    "filename2 = \"/disks/strw2/RadioAstronomy2023/Interferometer_Dataant2_1420.0mhz__27.10.202315.13.26.grc\"\n",
    "filename3 = \"/disks/strw2/RadioAstronomy2023/ant3_1420.0mhz__27.10.202315.13.23.grc\"\n",
    "filename4 = \"/disks/strw2/RadioAstronomy2023/ant4_1420.0mhz__27.10.202315.13.23.grc\"\n",
    "filename5 = \"/disks/strw2/RadioAstronomy2023/ant5_1420.0mhz__27.10.202315.13.24.grc\"\n",
    "filename6 = \"/disks/strw2/RadioAstronomy2023/ant6_1420.0mhz__27.10.202315.13.24.grc\"\n",
    "filename7 = \"/disks/strw2/RadioAstronomy2023/dataant7_1420.0mhz__27.10.202315.13.25.grc\"\n",
    "filename8 = \"/disks/strw2/RadioAstronomy2023/dataant8_1420.0mhz__27.10.202315.13.25.grc\"\n"
   ]
  },
  {
   "cell_type": "code",
   "execution_count": 65,
   "metadata": {},
   "outputs": [],
   "source": [
    "def find_correlate(file1, file2, offset):\n",
    "    data1 = np.fromfile(file1, dtype=np.complex64, count=nrchan, offset=0)\n",
    "    data2 = np.fromfile(file2, dtype=np.complex64, count=int(nrchan/2), offset=0 + offset)\n",
    "    corr = signal.correlate(data1, data2)\n",
    "    # plt.plot(np.arange(len(data1)), data1)\n",
    "    # plt.plot(np.arange(len(data2)), data2)\n",
    "    # plt.show()\n",
    "    # plt.plot(signal.correlation_lags(len(data1), len(data2)), np.real(corr))\n",
    "    # plt.show()\n",
    "    return np.max(np.real(corr)) - np.min(np.real(corr))\n",
    "\n",
    "def find_delay():\n",
    "    values = []\n",
    "    offsets = np.linspace(nrchan*0, nrchan*1, 1000, dtype=int)\n",
    "    for offset in offsets:\n",
    "        values.append(find_correlate(filename1, filename2, offset*8))\n",
    "    plt.plot(offsets/(2.5*1e6), values)\n",
    "    plt.xlabel(\"Offset in seconds\")\n",
    "    plt.ylabel(\"Max real value in correlation\")\n",
    "    plt.show()\n",
    "    # return np.argmax(values)\n",
    "    print(f\"Offset is {offsets[np.argmax(values)]} values, thus {offsets[np.argmax(values)]*8} bytes\")\n",
    "    return offsets[np.argmax(values)]"
   ]
  },
  {
   "cell_type": "code",
   "execution_count": 66,
   "metadata": {},
   "outputs": [
    {
     "data": {
      "image/png": "[encoded data removed]",
      "text/plain": [
       "<Figure size 432x288 with 1 Axes>"
      ]
     },
     "metadata": {
      "needs_background": "light"
     },
     "output_type": "display_data"
    },
    {
     "name": "stdout",
     "output_type": "stream",
     "text": [
      "Offset is 12595 values, thus 100760 bytes\n"
     ]
    },
    {
     "data": {
      "text/plain": [
       "12595"
      ]
     },
     "execution_count": 66,
     "metadata": {},
     "output_type": "execute_result"
    }
   ],
   "source": [
    "find_delay()"
   ]
  },
  {
   "cell_type": "code",
   "execution_count": null,
   "metadata": {},
   "outputs": [],
   "source": []
  },
  {
   "cell_type": "code",
   "execution_count": null,
   "metadata": {},
   "outputs": [],
   "source": [
    "def hdfig(subplots_def=None, scale=0.5):\n",
    "    fig = plt.figure(figsize=(8, 4.5), dpi=scale * 1920 / 8)\n",
    "    if subplots_def is None:\n",
    "        return fig\n",
    "    else:\n",
    "        return fig, fig.subplots(*subplots_def)\n",
    "\n",
    "def digitize(real_sequence: 'np.ndarray', nrbits: int = 8):\n",
    "    result = np.rint(real_sequence).astype(int)\n",
    "    maxpos = 2 ** (nrbits - 1) - 1\n",
    "    maxneg = -(2 ** (nrbits - 1))\n",
    "    result[result < maxneg] = maxneg\n",
    "    result[result > maxpos] = maxpos\n",
    "    return result\n",
    "\n",
    "\n",
    "def simple_real_cross_power(ant_1_voltage, ant_2_voltage, nrbits: int = 4):\n",
    "    # assert ant_1_voltage.shape == ant_2_voltage.shape\n",
    "    s1 = ant_1_voltage #digitize(ant_1_voltage, nrbits=nrbits)\n",
    "    s2 = ant_2_voltage #digitize(ant_2_voltage, nrbits=nrbits)\n",
    "    return sp.signal.correlate(s1, s2, mode='same') / s1.shape[0]\n",
    "\n",
    "\n",
    "def plot_real_xc(xc: 'np.ndarray[np.float]', width: int, sample_interval, caption=None):\n",
    "    fig, ax = hdfig((1, 1))\n",
    "    m = xc.shape[0] // 2\n",
    "    lw = width // 2\n",
    "    hw = width - lw\n",
    "    delay = np.arange(-lw, hw) * sample_interval\n",
    "    ax.plot(delay, xc[m - lw:m + hw])\n",
    "    ax.set_xlabel('Delay [%s]' % delay.unit)\n",
    "    if caption:\n",
    "        ax.set_title(caption)\n",
    "    plt.show()\n",
    "\n",
    "\n",
    "def main():\n",
    "    parser = argparse.ArgumentParser(description=\"calculating correlation as a in-field test\",\n",
    "                                     formatter_class=argparse.ArgumentDefaultsHelpFormatter)\n",
    "    parser.add_argument(\"file1\", type=str, help=\"Name of file 1\")\n",
    "    parser.add_argument(\"file2\", type=str, help=\"Name of file 2\")\n",
    "    parser.add_argument(\"-w\", '--window', type=int, help=\"Window of correlation plot\")\n",
    "    args = parser.parse_args()\n",
    "    config = vars(args)\n",
    "\n",
    "    file1 = np.fromfile(config['file1'], dtype=np.complex64)  # [0:3000000]\n",
    "    file2 = np.fromfile(config['file2'], dtype=np.complex64)  # [0:3000000]\n",
    "\n",
    "    delta_freq = 2.5 * u.MHz\n",
    "    sample_interval = (1 / (2 * delta_freq)).to(u.s)\n",
    "\n",
    "    if config['window'] is None:\n",
    "        w = 100000\n",
    "    else:\n",
    "        w = config['window']\n",
    "\n",
    "    try:\n",
    "        corrcoeff = np.corrcoef(file1, file2)[0, 1]\n",
    "        cross = simple_real_cross_power(file1 * 10, file2 * 10, nrbits=4)\n",
    "    except ValueError:\n",
    "        lendiff = len(file2)-len(file1)\n",
    "        print(f\"Sample loss has occurred between the two, the difference in lenght is: {np.abs(lendiff)}\")\n",
    "        print(f\"Calculating the correlation where the two are of equal length\")\n",
    "        if lendiff<0:\n",
    "            file1 = file1[:lendiff]\n",
    "        else:\n",
    "            file2 = file2[:-lendiff]\n",
    "        corrcoeff = np.corrcoef(file1, file2)[0, 1]\n",
    "        cross = simple_real_cross_power(file1 * 10, file2 * 10, nrbits=4)\n",
    "\n",
    "\n",
    "    print(f\"The crosscorrelation coefficient of the data is: {np.real(corrcoeff):.3f}\")\n",
    "\n",
    "    plot_real_xc(cross, w, sample_interval)\n"
   ]
  }
 ],
 "metadata": {
  "kernelspec": {
   "display_name": "Python 3",
   "language": "python",
   "name": "python3"
  },
  "language_info": {
   "codemirror_mode": {
    "name": "ipython",
    "version": 3
   },
   "file_extension": ".py",
   "mimetype": "text/x-python",
   "name": "python",
   "nbconvert_exporter": "python",
   "pygments_lexer": "ipython3",
   "version": "3.11.6"
  }
 },
 "nbformat": 4,
 "nbformat_minor": 2
}
